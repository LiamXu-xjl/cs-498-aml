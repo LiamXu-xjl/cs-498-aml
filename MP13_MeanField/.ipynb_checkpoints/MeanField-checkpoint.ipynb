{
 "cells": [
  {
   "cell_type": "code",
   "execution_count": 1,
   "metadata": {},
   "outputs": [],
   "source": [
    "%matplotlib inline\n",
    "%load_ext autoreload\n",
    "%autoreload 2\n",
    "\n",
    "import matplotlib.pyplot as plt\n",
    "import numpy as np\n",
    "import os\n",
    "import pandas as pd\n",
    "\n",
    "from scipy.special import expit\n",
    "\n",
    "from utils import test_case_checker, perform_computation, show_test_cases"
   ]
  },
  {
   "cell_type": "markdown",
   "metadata": {},
   "source": [
    "# 0. Data "
   ]
  },
  {
   "cell_type": "markdown",
   "metadata": {},
   "source": [
    "Since the MNIST data (http://yann.lecun.com/exdb/mnist/) is stored in a binary format, we would rather have an API handle the loading for us. \n",
    "\n",
    "Pytorch (https://pytorch.org/) is an Automatic Differentiation library that we may see and use later in the course. \n",
    "\n",
    "Torchvision (https://pytorch.org/docs/stable/torchvision/index.html?highlight=torchvision#module-torchvision) is an extension library for pytorch that can load many of the famous data sets painlessly. \n",
    "\n",
    "We already used Torchvision for downloading the MNIST data. It is stored in a numpy array file that we will load easily."
   ]
  },
  {
   "cell_type": "markdown",
   "metadata": {},
   "source": [
    "## 0.1 Loading the Data"
   ]
  },
  {
   "cell_type": "code",
   "execution_count": 2,
   "metadata": {},
   "outputs": [],
   "source": [
    "if os.path.exists('mnist.npz'):\n",
    "    npzfile = np.load('mnist.npz')\n",
    "    train_images_raw = npzfile['train_images_raw']\n",
    "    train_labels = npzfile['train_labels']\n",
    "    eval_images_raw = npzfile['eval_images_raw']\n",
    "    eval_labels = npzfile['eval_labels']\n",
    "else:\n",
    "    import torchvision\n",
    "    download_ = not os.path.exists('./mnist')\n",
    "    data_train = torchvision.datasets.MNIST('mnist', train=True, transform=None, target_transform=None, download=download_)\n",
    "    data_eval = torchvision.datasets.MNIST('mnist', train=False, transform=None, target_transform=None, download=download_)\n",
    "\n",
    "    train_images_raw = data_train.data.numpy()\n",
    "    train_labels = data_train.targets.numpy()\n",
    "    eval_images_raw = data_eval.data.numpy()\n",
    "    eval_labels = data_eval.targets.numpy()\n",
    "\n",
    "    np.savez('mnist.npz', train_images_raw=train_images_raw, train_labels=train_labels, \n",
    "             eval_images_raw=eval_images_raw, eval_labels=eval_labels) "
   ]
  },
  {
   "cell_type": "code",
   "execution_count": 3,
   "metadata": {},
   "outputs": [],
   "source": [
    "noise_flip_prob = 0.04"
   ]
  },
  {
   "cell_type": "markdown",
   "metadata": {},
   "source": [
    "# <span style=\"color:blue\">Task 1</span>"
   ]
  },
  {
   "cell_type": "markdown",
   "metadata": {},
   "source": [
    "Write the function `get_thresholded_and_noised` that does image thresholding and flipping pixels. More specifically, this functions should exactly apply the following two steps in order:\n",
    "\n",
    "1. **Thresholding**: First, given the input threshold argument, you must compute a thresholded image array. This array should indicate whether each element of `images_raw` is **greater than or equal to**  the `threshold` argument. We will call the result of this step the thresholded image.\n",
    "2. **Noise Application (i.e., Flipping Pixels)**: After the image was thresholded, you should use the `flip_flags` input argument and flip the pixels with a corresponding `True` entry in `flip_flags`. \n",
    "\n",
    "  * `flip_flags` mostly consists of `False` entries, which means you should not change their corresponding pixels. Instead, whenever a pixel had a `True` entry in `flip_flags`, that pixel in the thresholded image must get flipped. This way you will obtain the noised image.\n",
    "3. **Mapping Pixels to -1/+1**: You need to make sure the output image pixels are mapped to -1 and 1 values (as opposed to 0/1 or True/False).\n",
    "\n",
    "`get_thresholded_and_noised` should take the following arguments:\n",
    "\n",
    "1. `images_raw`: A numpy array. Do not assume anything about its shape, dtype or range of values. Your function should be careless about these attributes.\n",
    "2. `threshold`: A scalar value.\n",
    "3. `flip_flags`: A numpy array with the same shape as `images_raw` and `np.bool` dtype. This array indicates whether each pixel should be flipped or not.\n",
    "\n",
    "and return the following:\n",
    "\n",
    "* `mapped_noised_image`: A numpy array with the same shape as `images_raw`.  This array's entries should either be -1 or 1."
   ]
  },
  {
   "cell_type": "code",
   "execution_count": 46,
   "metadata": {
    "deletable": false,
    "nbgrader": {
     "cell_type": "code",
     "checksum": "d7a43224809fd8d0963612527c0b97c7",
     "grade": false,
     "grade_id": "cell-8537fe703ac9bd5d",
     "locked": false,
     "schema_version": 3,
     "solution": true,
     "task": false
    }
   },
   "outputs": [],
   "source": [
    "def get_thresholded_and_noised(images_raw, threshold, flip_flags):\n",
    "    \n",
    "    # your code here\n",
    "    thresholded = (images_raw >= threshold)\n",
    "    np.invert(thresholded, out=thresholded, where=flip_flags>0)\n",
    "    mapped_noised_image = -1 * np.ones_like(thresholded)\n",
    "    mapped_noised_image[thresholded] = 1\n",
    "    \n",
    "    assert (np.abs(mapped_noised_image)==1).all()\n",
    "    return mapped_noised_image.astype(np.int32)"
   ]
  },
  {
   "cell_type": "code",
   "execution_count": 47,
   "metadata": {
    "deletable": false,
    "editable": false,
    "nbgrader": {
     "cell_type": "code",
     "checksum": "9d437b2f579e514e2afb64f057b9b7cc",
     "grade": true,
     "grade_id": "cell-a93db968174effe4",
     "locked": true,
     "points": 0.2,
     "schema_version": 3,
     "solution": false,
     "task": false
    }
   },
   "outputs": [
    {
     "name": "stdout",
     "output_type": "stream",
     "text": [
      "The reference and solution images are the same to a T! Well done on this test case.\n"
     ]
    },
    {
     "data": {
      "image/png": "[encoded data removed]",
      "text/plain": [
       "<Figure size 1080x360 with 3 Axes>"
      ]
     },
     "metadata": {
      "needs_background": "light"
     },
     "output_type": "display_data"
    },
    {
     "name": "stdout",
     "output_type": "stream",
     "text": [
      "    Enter nothing to go to the next image\n",
      "or\n",
      "    Enter \"s\" when you are done to recieve the three images. \n",
      "        **Don't forget to do this before continuing to the next step.**\n",
      "s\n"
     ]
    }
   ],
   "source": [
    "\n",
    "def test_thresh_noise(x, seed = 12345, p = noise_flip_prob, threshold = 128):        \n",
    "    np_random = np.random.RandomState(seed=seed)\n",
    "    flip_flags = (np_random.uniform(0., 1., size=x.shape) < p)\n",
    "    return get_thresholded_and_noised(x, threshold, flip_flags)\n",
    "\n",
    "(orig_image, ref_image, test_im, success_thr) = show_test_cases(test_thresh_noise, task_id='1_V')\n",
    "\n",
    "assert success_thr"
   ]
  },
  {
   "cell_type": "code",
   "execution_count": 48,
   "metadata": {
    "deletable": false,
    "editable": false,
    "nbgrader": {
     "cell_type": "code",
     "checksum": "9ddfa2bdbc3cdfaccac1c378121cc61d",
     "grade": true,
     "grade_id": "cell-cad4a05d0f97d19d",
     "locked": true,
     "points": 0.8,
     "schema_version": 3,
     "solution": false,
     "task": false
    }
   },
   "outputs": [],
   "source": [
    "# Checking against the pre-computed test database\n",
    "test_results = test_case_checker(get_thresholded_and_noised, task_id=1)\n",
    "assert test_results['passed'], test_results['message']"
   ]
  },
  {
   "cell_type": "markdown",
   "metadata": {},
   "source": [
    "## 0.2 Applying Thresholding and Noise to Data"
   ]
  },
  {
   "cell_type": "code",
   "execution_count": 49,
   "metadata": {},
   "outputs": [],
   "source": [
    "if perform_computation:\n",
    "    X_true_grayscale = train_images_raw[:10, :, :]\n",
    "\n",
    "    np_random = np.random.RandomState(seed=12345)\n",
    "    flip_flags = flip_flags = (np_random.uniform(0., 1., size=X_true_grayscale.shape) < noise_flip_prob)\n",
    "    initial_pi = np_random.uniform(0, 1, size=X_true_grayscale.shape) # Initial Random Pi values\n",
    "\n",
    "    X_true = get_thresholded_and_noised(X_true_grayscale, threshold=128, flip_flags=flip_flags * 0)\n",
    "    X_noised = get_thresholded_and_noised(X_true_grayscale, threshold=128, flip_flags=flip_flags)"
   ]
  },
  {
   "cell_type": "markdown",
   "metadata": {},
   "source": [
    "# <span style=\"color:blue\">Task 2</span>"
   ]
  },
  {
   "cell_type": "markdown",
   "metadata": {},
   "source": [
    "Write a funciton named `sigmoid_2x` that given a variable $X$ computes the following:\n",
    "\n",
    "$$f(X) := \\frac{\\exp(X)}{\\exp(X) + \\exp(-X)}$$\n",
    "\n",
    "The input argument is a numpy array $X$, which could have any shape. Your output array must have the same shape as $X$.\n",
    "\n",
    "**Important Note**: Theoretically, $f$ satisfies the following equations:\n",
    "\n",
    "$$\\lim_{X\\rightarrow +\\infty} f(X) = 1$$\n",
    "$$\\lim_{X\\rightarrow -\\infty} f(X) = 0$$\n",
    "\n",
    "Your implementation must also work correctly even on these extreme edge cases. In other words, you must satisfy the following tests.\n",
    "* `sigmoid_2x(np.inf)==1` \n",
    "* `sigmoid_2x(-np.inf)==0`.\n",
    "\n",
    "**Hint**: You may find `scipy.special.expit` useful."
   ]
  },
  {
   "cell_type": "code",
   "execution_count": 50,
   "metadata": {
    "deletable": false,
    "nbgrader": {
     "cell_type": "code",
     "checksum": "9467e4711dfb00723c4a04f641d3a4bb",
     "grade": false,
     "grade_id": "cell-baba53895e886588",
     "locked": false,
     "schema_version": 3,
     "solution": true,
     "task": false
    }
   },
   "outputs": [],
   "source": [
    "def sigmoid_2x(X):\n",
    "    \n",
    "    # your code here\n",
    "    output = expit(2*X)\n",
    "    \n",
    "    return output"
   ]
  },
  {
   "cell_type": "code",
   "execution_count": 51,
   "metadata": {
    "deletable": false,
    "editable": false,
    "nbgrader": {
     "cell_type": "code",
     "checksum": "05703316807b847b94777d150f813ef1",
     "grade": true,
     "grade_id": "cell-4e87b3b9548c3052",
     "locked": true,
     "points": 1,
     "schema_version": 3,
     "solution": false,
     "task": false
    }
   },
   "outputs": [],
   "source": [
    "assert sigmoid_2x(+np.inf) == 1.\n",
    "assert sigmoid_2x(-np.inf) == 0.\n",
    "assert np.array_equal(sigmoid_2x(np.array([0, 1])).round(3), np.array([0.5, 0.881]))\n",
    "\n",
    "\n",
    "# Checking against the pre-computed test database\n",
    "test_results = test_case_checker(sigmoid_2x, task_id=2)\n",
    "assert test_results['passed'], test_results['message']"
   ]
  },
  {
   "cell_type": "markdown",
   "metadata": {},
   "source": [
    "# 1. Applying Mean-field Approximation to Boltzman Machine's Variational Inference Problem"
   ]
  },
  {
   "cell_type": "markdown",
   "metadata": {},
   "source": [
    "# <span style=\"color:blue\">Task 3</span>"
   ]
  },
  {
   "cell_type": "markdown",
   "metadata": {},
   "source": [
    "Write a `boltzman_meanfield` function that applies the mean-field approximation to the Boltzman machine. \n",
    "\n",
    "Recalling the textbook notation, $X_i$ is the observed value of pixel $i$, and $H_i$ is the true value of pixel $i$ (before applying noise). For instance, if we have a $3 \\times 3$ image, the corresponding Boltzman machine looks like this: \n",
    "\n",
    "```\n",
    "       X_1        X_2        X_3\n",
    "      /          /          /\n",
    "     H_1 ------ H_2 ------ H_3\n",
    "      |          |          |\n",
    "      |          |          |\n",
    "      |          |          |\n",
    "      | X_4      | X_5      | X_6\n",
    "      |/         |/         |/ \n",
    "     H_4 ------ H_5 ------ H_6\n",
    "      |          |          |\n",
    "      |          |          |\n",
    "      |          |          |\n",
    "      | X_7      | X_8      | X_9\n",
    "      |/         |/         |/ \n",
    "     H_7 ------ H_8 ------ H_9\n",
    "```     \n",
    "\n",
    "Here, we a adopt a slightly simplified notation from the textbook and define $\\mathcal{N}(i)$ to be the neighbors of pixel $i$ (the pixels adjacent to pixel $i$). For instance, in the above figure, we have $\\mathcal{N}(1) = \\{2,4\\}$, $\\mathcal{N}(2) = \\{1,3,5\\}$, and $\\mathcal{N}(5) = \\{2,4,6,8\\}$.\n",
    "\n",
    "\n",
    "With this, the process in the textbook can be summarized as follows:\n",
    "\n",
    "```\n",
    "1. for iteration = 1, 2, 3, ....,\n",
    "  2. Pick a random pixel i.\n",
    "  3. Find pixel i's new parameter as\n",
    "```\n",
    "$$\\pi_i^{\\text{new}} = \\frac{\\exp(\\theta_{ii}^{(2)} X_i + \\sum_{j\\in \\mathcal{N}(i)} \\theta_{ij}^{(1)} (2\\pi_j -1))}{\\exp(\\theta_{ii}^{(2)} X_i + \\sum_{j\\in \\mathcal{N}(i)} \\theta_{ij}^{(1)} (2\\pi_j -1)) + \\exp(-\\theta_{ii}^{(2)} X_i - \\sum_{j\\in \\mathcal{N}(i)} \\theta_{ij}^{(1)} (2\\pi_j -1))} .$$\n",
    "```\n",
    "  4. Replace the existing parameter for pixel i with the new one.\n",
    "```\n",
    "$$\\pi_i \\leftarrow \\pi_i^{\\text{new}}$$\n",
    "\n",
    "Since our computational resources are extremely vectorized, we will make the following minor algorithmic modification and ask you to implement the following instead:\n",
    "\n",
    "```\n",
    "1. for iteration = 1, 2, 3, ....,\n",
    "  2. for each pixels i:\n",
    "  3. Find pixel i's new parameter, but do not update the original parameter yet.\n",
    "```\n",
    "$$\\pi_i^{\\text{new}} = \\frac{\\exp(\\theta_{ii}^{(2)} X_i + \\sum_{j\\in \\mathcal{N}(i)} \\theta_{ij}^{(1)} (2\\pi_j -1))}{\\exp(\\theta_{ii}^{(2)} X_i + \\sum_{j\\in \\mathcal{N}(i)} \\theta_{ij}^{(1)} (2\\pi_j -1)) + \\exp(-\\theta_{ii}^{(2)} X_i - \\sum_{j\\in \\mathcal{N}(i)} \\theta_{ij}^{(1)} (2\\pi_j -1))} .$$\n",
    "```\n",
    "  4. Once you have computed all the new parameters, update all of them at the same time:\n",
    "```\n",
    "$$\\pi \\leftarrow \\pi^{\\text{new}}$$\n",
    "\n",
    "We assume that the parameters $\\theta_{ii}^{(2)}$ have the same value for all $i$ and denote their common value by scalar `theta_X`. Moreover, we assume that the parameters $\\theta_{ij}^{(1)}$ have the same value for all $i,j$ and denote their common value by scalar `theta_pi`.\n",
    "\n",
    "The `boltzman_meanfield` function must take the following input arguments:\n",
    "1. `images`: A numpy array with the shape `(N,height,width)`, where \n",
    "    * `N` is the number of samples and could be anything,\n",
    "    * `height` is each individual image's height in pixels (i.e., number of rows in each image),\n",
    "    * and `width` is each individual image's width in pixels (i.e., number of columns in each image).\n",
    "      * Do not assume anything about `images`'s dtype or the number of samples or the `height` or the `width`.\n",
    "      * The entries of `images` are either -1 or 1.\n",
    "2. `initial_pi`: A numpy array with the same shape as `images` (i.e. `(N,height,width)`). This variable is corresponding to the initial value of $\\pi$ in the textbook analysis and above equations. Note that for each of the $N$ images, we have a different $\\pi$ variable.\n",
    "\n",
    "3. `theta_X`: A scalar with a default value of `0.5*np.log(1/noise_flip_prob-1)`. This variable represents $\\theta_{ii}^{(2)}$ in the above update equation.\n",
    "\n",
    "4. `theta_pi`: A scalar with a default value of 2. This variable represents $\\theta_{ij}^{(1)}$ in the above update equation.\n",
    "\n",
    "5. `iterations`: A scalar with a default value of 100. This variable denotes the number of update iterations to perform.\n",
    "\n",
    "The `boltzman_meanfield` function must return the final $\\pi$ variable as a numpy array called `pi`, and should contain values that are between 0 and 1. \n",
    "\n",
    "**Hint**: You may find the `sigmoid_2x` function, that you implemented earlier, useful.\n",
    "\n",
    "**Hint**: If you want to find the summation of neighboring elements for all of a 2-dimensional matrix, there is an easy and efficient way using matrix operations. You can initialize a zero matrix, and then add four shifted versions (i.e., left-, right-, up-, and down-shifted versions) of the original matrix to it. You will have to be careful in the assignment and selection indices, since you will have to drop one row/column for each shifted version of the matrix.\n",
    "  * Do **not** use `np.roll` if you're taking this approach."
   ]
  },
  {
   "cell_type": "code",
   "execution_count": null,
   "metadata": {
    "deletable": false,
    "nbgrader": {
     "cell_type": "code",
     "checksum": "0cd68da6ffa91cc0796f53f49b7ab71a",
     "grade": false,
     "grade_id": "cell-e47949a00f04759c",
     "locked": false,
     "schema_version": 3,
     "solution": true,
     "task": false
    }
   },
   "outputs": [],
   "source": [
    "def boltzman_meanfield(images, initial_pi, theta_X=0.5*np.log(1/noise_flip_prob-1), theta_pi=2, iterations=100):\n",
    "    if len(images.shape)==2:\n",
    "        # In case a 2d image was given as input, we'll add a dummy dimension to be consistent\n",
    "        X = images.reshape(1,*images.shape)\n",
    "    else:\n",
    "        # Otherwise, we'll just work with what's given\n",
    "        X = images\n",
    "    \n",
    "    pi = initial_pi\n",
    "    # your code here\n",
    "    \n",
    "    \n",
    "    return pi.reshape(*images.shape)"
   ]
  },
  {
   "cell_type": "code",
   "execution_count": null,
   "metadata": {
    "deletable": false,
    "editable": false,
    "nbgrader": {
     "cell_type": "code",
     "checksum": "5753989d3e0dad787a6833c39262fb89",
     "grade": true,
     "grade_id": "cell-6291d0a80ccca660",
     "locked": true,
     "points": 0.2,
     "schema_version": 3,
     "solution": false,
     "task": false
    }
   },
   "outputs": [],
   "source": [
    "def test_boltzman(x, seed = 12345, theta_X=0.5*np.log(1/noise_flip_prob-1), theta_pi=2, iterations=100):        \n",
    "    np_random = np.random.RandomState(seed=seed)\n",
    "    initial_pi = np_random.uniform(0,1, size=x.shape)\n",
    "    return boltzman_meanfield(x, initial_pi, theta_X=theta_X, \n",
    "                              theta_pi=theta_pi, iterations=iterations)\n",
    "    \n",
    "(orig_image, ref_image, test_im, success_is_row_inky) = show_test_cases(test_boltzman, task_id='3_V')\n",
    "\n",
    "assert success_is_row_inky"
   ]
  },
  {
   "cell_type": "code",
   "execution_count": null,
   "metadata": {
    "deletable": false,
    "editable": false,
    "nbgrader": {
     "cell_type": "code",
     "checksum": "dfbdbd77c48ab7c23ce00913b90050b8",
     "grade": true,
     "grade_id": "cell-e7b59624d7ab9ec3",
     "locked": true,
     "points": 0.8,
     "schema_version": 3,
     "solution": false,
     "task": false
    }
   },
   "outputs": [],
   "source": [
    "# Checking against the pre-computed test database\n",
    "test_results = test_case_checker(boltzman_meanfield, task_id=3)\n",
    "assert test_results['passed'], test_results['message']"
   ]
  },
  {
   "cell_type": "markdown",
   "metadata": {},
   "source": [
    "## 2. Tuning the Boltzman Machine's Hyper-Parameters"
   ]
  },
  {
   "cell_type": "markdown",
   "metadata": {},
   "source": [
    "Now, with the `boltzman_meanfield` function that you implemented above, here see the effect of changing hyper parameters `theta_X` and `theta_pi` which were defined in Task 3. \n",
    "\n",
    "- We set `theta_X` to be `0.5*np.log(1/noise_flip_prob-1)` where `noise_flip_prob` was the probability of flipping each pixel. Try to think why this is a reasonable choice. (This is also related to one of the questions in the follow-up quiz).\n",
    "- We try different values for `theta_pi`. \n",
    "\n",
    "For each value of `theta_pi`, we the apply the denoising and compare the denoised images to the original ones. We adopt several statistical measures to compare original and denoised images and to finally decide which value of `theta_pi` is better. Remember that during the noising process, we chose some pixels and decide to flip them, and during the denoising process we essentially try to detect such pixels. Let `P` be the total number of pixels that we flip during the noise adding process, and `N` be the total number of pixels that we do not flip during the noise adding process. We can define:\n",
    "\n",
    "- True Positive (`TP`). Defined to be the total number of pixels that are flipped during the noise adding process, and we successfully detect them during the denoising process. \n",
    "- True Positive Rate (`TPR`). Other names: sensitivity, recall. Defined to be the ratio `TP / P`.\n",
    "- False Positive (`FP`). Defined to be the number of pixels that were detected as being noisy during the denosing process, but were not really noisy. \n",
    "- False Positive Rate (`FPR`). Other name: fall-out. Defined to be the ratio `FP/N`.\n",
    "- Positive Predictive Value (`PPV`). Other name: precision. Defined to be the ratio `TP / (TP + FP)`.\n",
    "- `F1` score. Defined to be the harmonic mean of precision (`PPV`) and recall (`TPR`), or equivalently `2 TP / (2 TP + FP + FN)`. \n",
    "\n",
    "Since we fix `theta_X` in this section and evaluate different values of `theta_pi`, in the plots, `theta` refers to `theta_pi`."
   ]
  },
  {
   "cell_type": "code",
   "execution_count": null,
   "metadata": {},
   "outputs": [],
   "source": [
    "def get_tpr(preds, true_labels):\n",
    "    TP = (preds * (preds == true_labels)).sum()\n",
    "    P = true_labels.sum()\n",
    "    if P==0:\n",
    "        TPR = 1.\n",
    "    else:\n",
    "        TPR = TP / P\n",
    "    \n",
    "    return TPR\n",
    "\n",
    "def get_fpr(preds, true_labels):\n",
    "    FP = (preds * (preds != true_labels)).sum()\n",
    "    N = (1-true_labels).sum()\n",
    "    if N==0:\n",
    "        FPR=1\n",
    "    else:\n",
    "        FPR = FP / N\n",
    "    return FPR\n",
    "\n",
    "def get_ppv(preds, true_labels):\n",
    "    TP = (preds * (preds == true_labels)).sum()\n",
    "    FP = (preds * (preds != true_labels)).sum()\n",
    "    if (TP + FP) == 0:\n",
    "        PPV = 1\n",
    "    else:\n",
    "        PPV = TP / (TP + FP)\n",
    "    return PPV\n",
    "\n",
    "def get_f1(preds, true_labels):\n",
    "    TP = (preds * (preds == true_labels)).sum()\n",
    "    FP = (preds * (preds != true_labels)).sum()\n",
    "    FN = ((1-preds) * (preds != true_labels)).sum()\n",
    "    if (2 * TP + FP + FN) == 0:\n",
    "        F1 = 1\n",
    "    else:\n",
    "        F1 = (2 * TP) / (2 * TP + FP + FN)\n",
    "    return F1"
   ]
  },
  {
   "cell_type": "code",
   "execution_count": null,
   "metadata": {},
   "outputs": [],
   "source": [
    "if perform_computation:\n",
    "    all_theta = np.arange(0, 10, 0.2).tolist() + np.arange(10, 100, 5).tolist()\n",
    "\n",
    "    tpr_list, fpr_list, ppv_list, f1_list = [], [], [], []\n",
    "\n",
    "    for theta in all_theta:\n",
    "        meanfield_pi = boltzman_meanfield(X_noised, initial_pi, theta_X=0.5*np.log(1/noise_flip_prob-1), theta_pi=theta, iterations=100)\n",
    "        X_denoised = 2 * (meanfield_pi > 0.5) - 1\n",
    "\n",
    "        predicted_noise_pixels = (X_denoised != X_noised)\n",
    "        tpr = get_tpr(predicted_noise_pixels, flip_flags)\n",
    "        fpr = get_fpr(predicted_noise_pixels, flip_flags)\n",
    "        ppv = get_ppv(predicted_noise_pixels, flip_flags)\n",
    "        f1 = get_f1(predicted_noise_pixels, flip_flags)\n",
    "\n",
    "        tpr_list.append(tpr)\n",
    "        fpr_list.append(fpr)\n",
    "        ppv_list.append(ppv)\n",
    "        f1_list.append(f1)"
   ]
  },
  {
   "cell_type": "code",
   "execution_count": null,
   "metadata": {},
   "outputs": [],
   "source": [
    "if perform_computation:\n",
    "    fig, axes = plt.subplots(nrows=1, ncols=2, figsize=(12,4), dpi=90)\n",
    "\n",
    "    ax=axes[0]\n",
    "    ax.plot(all_theta, tpr_list)\n",
    "    ax.set_xlabel('Theta')\n",
    "    ax.set_ylabel('True Positive Rate')\n",
    "    ax.set_title('True Positive Rate Vs. Theta')\n",
    "    ax.set_xscale('log')\n",
    "\n",
    "    ax=axes[1]\n",
    "    ax.plot(all_theta, fpr_list)\n",
    "    ax.set_xlabel('Theta')\n",
    "    ax.set_ylabel('False Positive Rate')\n",
    "    ax.set_title('False Positive Rate Vs. Theta')\n",
    "    ax.set_xscale('log')"
   ]
  },
  {
   "cell_type": "code",
   "execution_count": null,
   "metadata": {},
   "outputs": [],
   "source": [
    "if perform_computation:\n",
    "    fig, axes = plt.subplots(nrows=1, ncols=3, figsize=(12,3), dpi=90)\n",
    "\n",
    "    ax=axes[0]\n",
    "    ax.plot(fpr_list, tpr_list)\n",
    "    ax.set_xlabel('False Positive Rate')\n",
    "    ax.set_ylabel('True Positive Rate')\n",
    "    ax.set_title('ROC Curve')\n",
    "    ax.set_xlim(-0.05, 1.05)\n",
    "    ax.set_ylim(-0.05, 1.05)\n",
    "    ax.plot(np.arange(-0.05, 1.05, 0.01), np.arange(-0.05, 1.05, 0.01), ls='--', c='black')\n",
    "\n",
    "    ax=axes[1]\n",
    "    ax.plot(all_theta, f1_list)\n",
    "    ax.set_xlabel('Theta')\n",
    "    ax.set_ylabel('F1-statistic')\n",
    "    ax.set_title('F1-score Vs. Theta')\n",
    "    ax.set_xscale('log')\n",
    "\n",
    "    ax=axes[2]\n",
    "    ax.plot(tpr_list, ppv_list)\n",
    "    ax.set_xlabel('Recall')\n",
    "    ax.set_ylabel('Precision')\n",
    "    ax.set_title('Precision Vs. Recall')\n",
    "    ax.set_xlim(-0.05, 1.05)\n",
    "    ax.set_ylim(-0.05, 1.05)\n",
    "    ax.plot(np.arange(-0.05, 1.05, 0.01), 1-np.arange(-0.05, 1.05, 0.01), ls='--', c='black')\n",
    "    None"
   ]
  },
  {
   "cell_type": "code",
   "execution_count": null,
   "metadata": {},
   "outputs": [],
   "source": [
    "if perform_computation:\n",
    "    best_theta = all_theta[np.argmax(f1_list)]\n",
    "    print(f'Best theta w.r.t. the F-score is {best_theta}')"
   ]
  },
  {
   "cell_type": "markdown",
   "metadata": {},
   "source": [
    "Now let's try the tuned hyper-parameters, and verify whether it visually improved the Boltzman machine."
   ]
  },
  {
   "cell_type": "code",
   "execution_count": null,
   "metadata": {
    "deletable": false,
    "editable": false,
    "nbgrader": {
     "cell_type": "code",
     "checksum": "9ffddbff83f528b6590d47a23414c8dd",
     "grade": true,
     "grade_id": "cell-00c232dc99ca3fdd",
     "locked": true,
     "points": 0,
     "schema_version": 3,
     "solution": false,
     "task": false
    }
   },
   "outputs": [],
   "source": [
    "if perform_computation:\n",
    "    def test_boltzman(x, seed = 12345, theta_X=0.5*np.log(1/noise_flip_prob-1), theta_pi=best_theta, iterations=100):        \n",
    "        np_random = np.random.RandomState(seed=seed)\n",
    "        initial_pi = np_random.uniform(0,1, size=x.shape)\n",
    "        return boltzman_meanfield(x, initial_pi, theta_X=theta_X, \n",
    "                                  theta_pi=theta_pi, iterations=iterations) >  0.5\n",
    "\n",
    "    (orig_image, ref_image, test_im, success_is_row_inky) = show_test_cases(test_boltzman, task_id='4_V')"
   ]
  },
  {
   "cell_type": "code",
   "execution_count": null,
   "metadata": {},
   "outputs": [],
   "source": []
  },
  {
   "cell_type": "code",
   "execution_count": null,
   "metadata": {},
   "outputs": [],
   "source": []
  }
 ],
 "metadata": {
  "kernelspec": {
   "display_name": "Python 3",
   "language": "python",
   "name": "python3"
  },
  "language_info": {
   "codemirror_mode": {
    "name": "ipython",
    "version": 3
   },
   "file_extension": ".py",
   "mimetype": "text/x-python",
   "name": "python",
   "nbconvert_exporter": "python",
   "pygments_lexer": "ipython3",
   "version": "3.7.6"
  }
 },
 "nbformat": 4,
 "nbformat_minor": 4
}
